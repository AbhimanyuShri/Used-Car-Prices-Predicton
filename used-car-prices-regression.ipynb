{
 "cells": [
  {
   "cell_type": "code",
   "execution_count": 1,
   "id": "4ecfbcbe",
   "metadata": {
    "_cell_guid": "b1076dfc-b9ad-4769-8c92-a6c4dae69d19",
    "_uuid": "8f2839f25d086af736a60e9eeb907d3b93b6e0e5",
    "execution": {
     "iopub.execute_input": "2024-09-21T20:28:52.984134Z",
     "iopub.status.busy": "2024-09-21T20:28:52.983165Z",
     "iopub.status.idle": "2024-09-21T20:28:55.214988Z",
     "shell.execute_reply": "2024-09-21T20:28:55.213629Z"
    },
    "papermill": {
     "duration": 2.243316,
     "end_time": "2024-09-21T20:28:55.217728",
     "exception": false,
     "start_time": "2024-09-21T20:28:52.974412",
     "status": "completed"
    },
    "tags": []
   },
   "outputs": [
    {
     "name": "stdout",
     "output_type": "stream",
     "text": [
      "/kaggle/input/playground-series-s4e9/sample_submission.csv\n",
      "/kaggle/input/playground-series-s4e9/train.csv\n",
      "/kaggle/input/playground-series-s4e9/test.csv\n"
     ]
    }
   ],
   "source": [
    "# This Python 3 environment comes with many helpful analytics libraries installed\n",
    "# It is defined by the kaggle/python Docker image: https://github.com/kaggle/docker-python\n",
    "# For example, here's several helpful packages to load\n",
    "\n",
    "import numpy as np # linear algebra\n",
    "import pandas as pd # data processing, CSV file I/O (e.g. pd.read_csv)\n",
    "from sklearn.linear_model import LinearRegression\n",
    "from sklearn.model_selection import train_test_split  \n",
    "from sklearn.linear_model import LinearRegression \n",
    "from sklearn.impute import SimpleImputer \n",
    "from sklearn.preprocessing import OneHotEncoder\n",
    "from sklearn.compose import ColumnTransformer\n",
    "from sklearn.pipeline import Pipeline\n",
    "\n",
    "# Input data files are available in the read-only \"../input/\" directory\n",
    "# For example, running this (by clicking run or pressing Shift+Enter) will list all files under the input directory\n",
    "\n",
    "import os\n",
    "for dirname, _, filenames in os.walk('/kaggle/input'):\n",
    "    for filename in filenames:\n",
    "        print(os.path.join(dirname, filename))\n",
    "\n",
    "# You can write up to 20GB to the current directory (/kaggle/working/) that gets preserved as output when you create a version using \"Save & Run All\" \n",
    "# You can also write temporary files to /kaggle/temp/, but they won't be saved outside of the current session"
   ]
  },
  {
   "cell_type": "code",
   "execution_count": 2,
   "id": "f3511e5a",
   "metadata": {
    "execution": {
     "iopub.execute_input": "2024-09-21T20:28:55.229311Z",
     "iopub.status.busy": "2024-09-21T20:28:55.228727Z",
     "iopub.status.idle": "2024-09-21T20:28:56.779873Z",
     "shell.execute_reply": "2024-09-21T20:28:56.778796Z"
    },
    "papermill": {
     "duration": 1.559805,
     "end_time": "2024-09-21T20:28:56.782590",
     "exception": false,
     "start_time": "2024-09-21T20:28:55.222785",
     "status": "completed"
    },
    "tags": []
   },
   "outputs": [
    {
     "data": {
      "text/html": [
       "<div>\n",
       "<style scoped>\n",
       "    .dataframe tbody tr th:only-of-type {\n",
       "        vertical-align: middle;\n",
       "    }\n",
       "\n",
       "    .dataframe tbody tr th {\n",
       "        vertical-align: top;\n",
       "    }\n",
       "\n",
       "    .dataframe thead th {\n",
       "        text-align: right;\n",
       "    }\n",
       "</style>\n",
       "<table border=\"1\" class=\"dataframe\">\n",
       "  <thead>\n",
       "    <tr style=\"text-align: right;\">\n",
       "      <th></th>\n",
       "      <th>id</th>\n",
       "      <th>brand</th>\n",
       "      <th>model</th>\n",
       "      <th>model_year</th>\n",
       "      <th>milage</th>\n",
       "      <th>fuel_type</th>\n",
       "      <th>engine</th>\n",
       "      <th>transmission</th>\n",
       "      <th>ext_col</th>\n",
       "      <th>int_col</th>\n",
       "      <th>accident</th>\n",
       "      <th>clean_title</th>\n",
       "      <th>price</th>\n",
       "    </tr>\n",
       "  </thead>\n",
       "  <tbody>\n",
       "    <tr>\n",
       "      <th>0</th>\n",
       "      <td>0</td>\n",
       "      <td>MINI</td>\n",
       "      <td>Cooper S Base</td>\n",
       "      <td>2007</td>\n",
       "      <td>213000</td>\n",
       "      <td>Gasoline</td>\n",
       "      <td>172.0HP 1.6L 4 Cylinder Engine Gasoline Fuel</td>\n",
       "      <td>A/T</td>\n",
       "      <td>Yellow</td>\n",
       "      <td>Gray</td>\n",
       "      <td>None reported</td>\n",
       "      <td>Yes</td>\n",
       "      <td>4200</td>\n",
       "    </tr>\n",
       "    <tr>\n",
       "      <th>1</th>\n",
       "      <td>1</td>\n",
       "      <td>Lincoln</td>\n",
       "      <td>LS V8</td>\n",
       "      <td>2002</td>\n",
       "      <td>143250</td>\n",
       "      <td>Gasoline</td>\n",
       "      <td>252.0HP 3.9L 8 Cylinder Engine Gasoline Fuel</td>\n",
       "      <td>A/T</td>\n",
       "      <td>Silver</td>\n",
       "      <td>Beige</td>\n",
       "      <td>At least 1 accident or damage reported</td>\n",
       "      <td>Yes</td>\n",
       "      <td>4999</td>\n",
       "    </tr>\n",
       "    <tr>\n",
       "      <th>2</th>\n",
       "      <td>2</td>\n",
       "      <td>Chevrolet</td>\n",
       "      <td>Silverado 2500 LT</td>\n",
       "      <td>2002</td>\n",
       "      <td>136731</td>\n",
       "      <td>E85 Flex Fuel</td>\n",
       "      <td>320.0HP 5.3L 8 Cylinder Engine Flex Fuel Capab...</td>\n",
       "      <td>A/T</td>\n",
       "      <td>Blue</td>\n",
       "      <td>Gray</td>\n",
       "      <td>None reported</td>\n",
       "      <td>Yes</td>\n",
       "      <td>13900</td>\n",
       "    </tr>\n",
       "    <tr>\n",
       "      <th>3</th>\n",
       "      <td>3</td>\n",
       "      <td>Genesis</td>\n",
       "      <td>G90 5.0 Ultimate</td>\n",
       "      <td>2017</td>\n",
       "      <td>19500</td>\n",
       "      <td>Gasoline</td>\n",
       "      <td>420.0HP 5.0L 8 Cylinder Engine Gasoline Fuel</td>\n",
       "      <td>Transmission w/Dual Shift Mode</td>\n",
       "      <td>Black</td>\n",
       "      <td>Black</td>\n",
       "      <td>None reported</td>\n",
       "      <td>Yes</td>\n",
       "      <td>45000</td>\n",
       "    </tr>\n",
       "    <tr>\n",
       "      <th>4</th>\n",
       "      <td>4</td>\n",
       "      <td>Mercedes-Benz</td>\n",
       "      <td>Metris Base</td>\n",
       "      <td>2021</td>\n",
       "      <td>7388</td>\n",
       "      <td>Gasoline</td>\n",
       "      <td>208.0HP 2.0L 4 Cylinder Engine Gasoline Fuel</td>\n",
       "      <td>7-Speed A/T</td>\n",
       "      <td>Black</td>\n",
       "      <td>Beige</td>\n",
       "      <td>None reported</td>\n",
       "      <td>Yes</td>\n",
       "      <td>97500</td>\n",
       "    </tr>\n",
       "    <tr>\n",
       "      <th>5</th>\n",
       "      <td>5</td>\n",
       "      <td>Audi</td>\n",
       "      <td>A6 2.0T Sport</td>\n",
       "      <td>2018</td>\n",
       "      <td>40950</td>\n",
       "      <td>Gasoline</td>\n",
       "      <td>252.0HP 2.0L 4 Cylinder Engine Gasoline Fuel</td>\n",
       "      <td>A/T</td>\n",
       "      <td>White</td>\n",
       "      <td>–</td>\n",
       "      <td>None reported</td>\n",
       "      <td>Yes</td>\n",
       "      <td>29950</td>\n",
       "    </tr>\n",
       "    <tr>\n",
       "      <th>6</th>\n",
       "      <td>6</td>\n",
       "      <td>Audi</td>\n",
       "      <td>A8 L 3.0T</td>\n",
       "      <td>2016</td>\n",
       "      <td>62200</td>\n",
       "      <td>Gasoline</td>\n",
       "      <td>333.0HP 3.0L V6 Cylinder Engine Gasoline Fuel</td>\n",
       "      <td>8-Speed A/T</td>\n",
       "      <td>Black</td>\n",
       "      <td>Black</td>\n",
       "      <td>None reported</td>\n",
       "      <td>Yes</td>\n",
       "      <td>28500</td>\n",
       "    </tr>\n",
       "    <tr>\n",
       "      <th>7</th>\n",
       "      <td>7</td>\n",
       "      <td>Chevrolet</td>\n",
       "      <td>Silverado 1500 1LZ</td>\n",
       "      <td>2016</td>\n",
       "      <td>102604</td>\n",
       "      <td>E85 Flex Fuel</td>\n",
       "      <td>355.0HP 5.3L 8 Cylinder Engine Flex Fuel Capab...</td>\n",
       "      <td>A/T</td>\n",
       "      <td>White</td>\n",
       "      <td>Gray</td>\n",
       "      <td>None reported</td>\n",
       "      <td>Yes</td>\n",
       "      <td>12500</td>\n",
       "    </tr>\n",
       "    <tr>\n",
       "      <th>8</th>\n",
       "      <td>8</td>\n",
       "      <td>Ford</td>\n",
       "      <td>F-150 XLT</td>\n",
       "      <td>2020</td>\n",
       "      <td>38352</td>\n",
       "      <td>Gasoline</td>\n",
       "      <td>2.7L V6 24V PDI DOHC Twin Turbo</td>\n",
       "      <td>10-Speed Automatic</td>\n",
       "      <td>Snowflake White Pearl Metallic</td>\n",
       "      <td>Black</td>\n",
       "      <td>None reported</td>\n",
       "      <td>Yes</td>\n",
       "      <td>62890</td>\n",
       "    </tr>\n",
       "    <tr>\n",
       "      <th>9</th>\n",
       "      <td>9</td>\n",
       "      <td>BMW</td>\n",
       "      <td>M4 Base</td>\n",
       "      <td>2015</td>\n",
       "      <td>74850</td>\n",
       "      <td>Gasoline</td>\n",
       "      <td>425.0HP 3.0L Straight 6 Cylinder Engine Gasoli...</td>\n",
       "      <td>Transmission w/Dual Shift Mode</td>\n",
       "      <td>Black</td>\n",
       "      <td>Blue</td>\n",
       "      <td>None reported</td>\n",
       "      <td>Yes</td>\n",
       "      <td>4000</td>\n",
       "    </tr>\n",
       "  </tbody>\n",
       "</table>\n",
       "</div>"
      ],
      "text/plain": [
       "   id          brand               model  model_year  milage      fuel_type  \\\n",
       "0   0           MINI       Cooper S Base        2007  213000       Gasoline   \n",
       "1   1        Lincoln               LS V8        2002  143250       Gasoline   \n",
       "2   2      Chevrolet   Silverado 2500 LT        2002  136731  E85 Flex Fuel   \n",
       "3   3        Genesis    G90 5.0 Ultimate        2017   19500       Gasoline   \n",
       "4   4  Mercedes-Benz         Metris Base        2021    7388       Gasoline   \n",
       "5   5           Audi       A6 2.0T Sport        2018   40950       Gasoline   \n",
       "6   6           Audi           A8 L 3.0T        2016   62200       Gasoline   \n",
       "7   7      Chevrolet  Silverado 1500 1LZ        2016  102604  E85 Flex Fuel   \n",
       "8   8           Ford           F-150 XLT        2020   38352       Gasoline   \n",
       "9   9            BMW             M4 Base        2015   74850       Gasoline   \n",
       "\n",
       "                                              engine  \\\n",
       "0       172.0HP 1.6L 4 Cylinder Engine Gasoline Fuel   \n",
       "1       252.0HP 3.9L 8 Cylinder Engine Gasoline Fuel   \n",
       "2  320.0HP 5.3L 8 Cylinder Engine Flex Fuel Capab...   \n",
       "3       420.0HP 5.0L 8 Cylinder Engine Gasoline Fuel   \n",
       "4       208.0HP 2.0L 4 Cylinder Engine Gasoline Fuel   \n",
       "5       252.0HP 2.0L 4 Cylinder Engine Gasoline Fuel   \n",
       "6      333.0HP 3.0L V6 Cylinder Engine Gasoline Fuel   \n",
       "7  355.0HP 5.3L 8 Cylinder Engine Flex Fuel Capab...   \n",
       "8                    2.7L V6 24V PDI DOHC Twin Turbo   \n",
       "9  425.0HP 3.0L Straight 6 Cylinder Engine Gasoli...   \n",
       "\n",
       "                     transmission                         ext_col int_col  \\\n",
       "0                             A/T                          Yellow    Gray   \n",
       "1                             A/T                          Silver   Beige   \n",
       "2                             A/T                            Blue    Gray   \n",
       "3  Transmission w/Dual Shift Mode                           Black   Black   \n",
       "4                     7-Speed A/T                           Black   Beige   \n",
       "5                             A/T                           White       –   \n",
       "6                     8-Speed A/T                           Black   Black   \n",
       "7                             A/T                           White    Gray   \n",
       "8              10-Speed Automatic  Snowflake White Pearl Metallic   Black   \n",
       "9  Transmission w/Dual Shift Mode                           Black    Blue   \n",
       "\n",
       "                                 accident clean_title  price  \n",
       "0                           None reported         Yes   4200  \n",
       "1  At least 1 accident or damage reported         Yes   4999  \n",
       "2                           None reported         Yes  13900  \n",
       "3                           None reported         Yes  45000  \n",
       "4                           None reported         Yes  97500  \n",
       "5                           None reported         Yes  29950  \n",
       "6                           None reported         Yes  28500  \n",
       "7                           None reported         Yes  12500  \n",
       "8                           None reported         Yes  62890  \n",
       "9                           None reported         Yes   4000  "
      ]
     },
     "execution_count": 2,
     "metadata": {},
     "output_type": "execute_result"
    }
   ],
   "source": [
    "test=pd.read_csv('/kaggle/input/playground-series-s4e9/test.csv')\n",
    "train=pd.read_csv('/kaggle/input/playground-series-s4e9/train.csv')\n",
    "train.head(10)"
   ]
  },
  {
   "cell_type": "code",
   "execution_count": 3,
   "id": "67f95b60",
   "metadata": {
    "execution": {
     "iopub.execute_input": "2024-09-21T20:28:56.794318Z",
     "iopub.status.busy": "2024-09-21T20:28:56.793880Z",
     "iopub.status.idle": "2024-09-21T20:28:56.849477Z",
     "shell.execute_reply": "2024-09-21T20:28:56.848449Z"
    },
    "papermill": {
     "duration": 0.064423,
     "end_time": "2024-09-21T20:28:56.852160",
     "exception": false,
     "start_time": "2024-09-21T20:28:56.787737",
     "status": "completed"
    },
    "tags": []
   },
   "outputs": [],
   "source": [
    "\n",
    "train = train.dropna(subset=[\"price\"])\n",
    "\n",
    "\n",
    "X = train.drop([\"price\", \"id\"], axis=1)\n",
    "y = train[\"price\"]\n",
    "X_test = test.drop([\"id\"], axis=1)"
   ]
  },
  {
   "cell_type": "code",
   "execution_count": 4,
   "id": "48fd682a",
   "metadata": {
    "execution": {
     "iopub.execute_input": "2024-09-21T20:28:56.864162Z",
     "iopub.status.busy": "2024-09-21T20:28:56.863774Z",
     "iopub.status.idle": "2024-09-21T20:28:56.870538Z",
     "shell.execute_reply": "2024-09-21T20:28:56.869404Z"
    },
    "papermill": {
     "duration": 0.015498,
     "end_time": "2024-09-21T20:28:56.872902",
     "exception": false,
     "start_time": "2024-09-21T20:28:56.857404",
     "status": "completed"
    },
    "tags": []
   },
   "outputs": [],
   "source": [
    "catcols = [cname for cname in X.columns if X[cname].dtype == \"object\"]  # Text columns\n",
    "numcols = [cname for cname in X.columns if X[cname].dtype in [\"int64\", \"float64\"]]  # Number columns"
   ]
  },
  {
   "cell_type": "code",
   "execution_count": 5,
   "id": "5e644687",
   "metadata": {
    "execution": {
     "iopub.execute_input": "2024-09-21T20:28:56.884601Z",
     "iopub.status.busy": "2024-09-21T20:28:56.884153Z",
     "iopub.status.idle": "2024-09-21T20:28:56.889431Z",
     "shell.execute_reply": "2024-09-21T20:28:56.888339Z"
    },
    "papermill": {
     "duration": 0.01394,
     "end_time": "2024-09-21T20:28:56.891830",
     "exception": false,
     "start_time": "2024-09-21T20:28:56.877890",
     "status": "completed"
    },
    "tags": []
   },
   "outputs": [],
   "source": [
    "numtran = SimpleImputer(strategy=\"mean\")\n"
   ]
  },
  {
   "cell_type": "code",
   "execution_count": 6,
   "id": "56388771",
   "metadata": {
    "execution": {
     "iopub.execute_input": "2024-09-21T20:28:56.904148Z",
     "iopub.status.busy": "2024-09-21T20:28:56.903223Z",
     "iopub.status.idle": "2024-09-21T20:28:56.909319Z",
     "shell.execute_reply": "2024-09-21T20:28:56.907865Z"
    },
    "papermill": {
     "duration": 0.014905,
     "end_time": "2024-09-21T20:28:56.911886",
     "exception": false,
     "start_time": "2024-09-21T20:28:56.896981",
     "status": "completed"
    },
    "tags": []
   },
   "outputs": [],
   "source": [
    "cattran = Pipeline(steps=[\n",
    "    (\"imputer\", SimpleImputer(strategy=\"most_frequent\")),  # Fill missing text with most common value\n",
    "    (\"onehot\", OneHotEncoder(handle_unknown=\"ignore\"))  # Convert data (text) into numbers\n",
    "])"
   ]
  },
  {
   "cell_type": "code",
   "execution_count": 7,
   "id": "d40b3f05",
   "metadata": {
    "execution": {
     "iopub.execute_input": "2024-09-21T20:28:56.924040Z",
     "iopub.status.busy": "2024-09-21T20:28:56.923117Z",
     "iopub.status.idle": "2024-09-21T20:28:56.928715Z",
     "shell.execute_reply": "2024-09-21T20:28:56.927630Z"
    },
    "papermill": {
     "duration": 0.014106,
     "end_time": "2024-09-21T20:28:56.931006",
     "exception": false,
     "start_time": "2024-09-21T20:28:56.916900",
     "status": "completed"
    },
    "tags": []
   },
   "outputs": [],
   "source": [
    "model = LinearRegression()\n",
    "\n",
    "\n",
    "pipeline = Pipeline(steps=[(\"preprocessor\", cattran), (\"model\", model)])"
   ]
  },
  {
   "cell_type": "code",
   "execution_count": 8,
   "id": "6c327b2c",
   "metadata": {
    "execution": {
     "iopub.execute_input": "2024-09-21T20:28:56.942317Z",
     "iopub.status.busy": "2024-09-21T20:28:56.941942Z",
     "iopub.status.idle": "2024-09-21T20:28:57.060285Z",
     "shell.execute_reply": "2024-09-21T20:28:57.059086Z"
    },
    "papermill": {
     "duration": 0.127301,
     "end_time": "2024-09-21T20:28:57.063262",
     "exception": false,
     "start_time": "2024-09-21T20:28:56.935961",
     "status": "completed"
    },
    "tags": []
   },
   "outputs": [],
   "source": [
    "X_train, X_two, y_train, y_two = train_test_split(X, y, test_size=0.2, random_state=0)"
   ]
  },
  {
   "cell_type": "code",
   "execution_count": 9,
   "id": "501cb34b",
   "metadata": {
    "execution": {
     "iopub.execute_input": "2024-09-21T20:28:57.075765Z",
     "iopub.status.busy": "2024-09-21T20:28:57.075367Z",
     "iopub.status.idle": "2024-09-21T20:29:09.182723Z",
     "shell.execute_reply": "2024-09-21T20:29:09.181644Z"
    },
    "papermill": {
     "duration": 12.116211,
     "end_time": "2024-09-21T20:29:09.185312",
     "exception": false,
     "start_time": "2024-09-21T20:28:57.069101",
     "status": "completed"
    },
    "tags": []
   },
   "outputs": [],
   "source": [
    "pipeline.fit(X_train, y_train)\n",
    "\n",
    "ypred = pipeline.predict(X_test)"
   ]
  },
  {
   "cell_type": "code",
   "execution_count": 10,
   "id": "668e72e3",
   "metadata": {
    "execution": {
     "iopub.execute_input": "2024-09-21T20:29:09.197006Z",
     "iopub.status.busy": "2024-09-21T20:29:09.196586Z",
     "iopub.status.idle": "2024-09-21T20:29:09.603686Z",
     "shell.execute_reply": "2024-09-21T20:29:09.602597Z"
    },
    "papermill": {
     "duration": 0.416054,
     "end_time": "2024-09-21T20:29:09.606371",
     "exception": false,
     "start_time": "2024-09-21T20:29:09.190317",
     "status": "completed"
    },
    "tags": []
   },
   "outputs": [
    {
     "data": {
      "text/html": [
       "<div>\n",
       "<style scoped>\n",
       "    .dataframe tbody tr th:only-of-type {\n",
       "        vertical-align: middle;\n",
       "    }\n",
       "\n",
       "    .dataframe tbody tr th {\n",
       "        vertical-align: top;\n",
       "    }\n",
       "\n",
       "    .dataframe thead th {\n",
       "        text-align: right;\n",
       "    }\n",
       "</style>\n",
       "<table border=\"1\" class=\"dataframe\">\n",
       "  <thead>\n",
       "    <tr style=\"text-align: right;\">\n",
       "      <th></th>\n",
       "      <th>id</th>\n",
       "      <th>price</th>\n",
       "    </tr>\n",
       "  </thead>\n",
       "  <tbody>\n",
       "    <tr>\n",
       "      <th>0</th>\n",
       "      <td>188533</td>\n",
       "      <td>21245.246751</td>\n",
       "    </tr>\n",
       "    <tr>\n",
       "      <th>1</th>\n",
       "      <td>188534</td>\n",
       "      <td>64686.882537</td>\n",
       "    </tr>\n",
       "    <tr>\n",
       "      <th>2</th>\n",
       "      <td>188535</td>\n",
       "      <td>44867.525021</td>\n",
       "    </tr>\n",
       "    <tr>\n",
       "      <th>3</th>\n",
       "      <td>188536</td>\n",
       "      <td>-7820.800449</td>\n",
       "    </tr>\n",
       "    <tr>\n",
       "      <th>4</th>\n",
       "      <td>188537</td>\n",
       "      <td>28145.228669</td>\n",
       "    </tr>\n",
       "  </tbody>\n",
       "</table>\n",
       "</div>"
      ],
      "text/plain": [
       "       id         price\n",
       "0  188533  21245.246751\n",
       "1  188534  64686.882537\n",
       "2  188535  44867.525021\n",
       "3  188536  -7820.800449\n",
       "4  188537  28145.228669"
      ]
     },
     "execution_count": 10,
     "metadata": {},
     "output_type": "execute_result"
    }
   ],
   "source": [
    "output = pd.DataFrame({'id': test['id'], 'price': ypred})\n",
    "output.to_csv('Carpred', index=False)\n",
    "output.head()"
   ]
  }
 ],
 "metadata": {
  "kaggle": {
   "accelerator": "none",
   "dataSources": [
    {
     "databundleVersionId": 9057646,
     "sourceId": 76728,
     "sourceType": "competition"
    }
   ],
   "dockerImageVersionId": 30761,
   "isGpuEnabled": false,
   "isInternetEnabled": true,
   "language": "python",
   "sourceType": "notebook"
  },
  "kernelspec": {
   "display_name": "Python 3",
   "language": "python",
   "name": "python3"
  },
  "language_info": {
   "codemirror_mode": {
    "name": "ipython",
    "version": 3
   },
   "file_extension": ".py",
   "mimetype": "text/x-python",
   "name": "python",
   "nbconvert_exporter": "python",
   "pygments_lexer": "ipython3",
   "version": "3.10.14"
  },
  "papermill": {
   "default_parameters": {},
   "duration": 20.240863,
   "end_time": "2024-09-21T20:29:10.233525",
   "environment_variables": {},
   "exception": null,
   "input_path": "__notebook__.ipynb",
   "output_path": "__notebook__.ipynb",
   "parameters": {},
   "start_time": "2024-09-21T20:28:49.992662",
   "version": "2.6.0"
  }
 },
 "nbformat": 4,
 "nbformat_minor": 5
}
